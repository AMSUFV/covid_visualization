{
 "cells": [
  {
   "cell_type": "code",
   "execution_count": 1,
   "metadata": {},
   "outputs": [],
   "source": [
    "from bs4 import BeautifulSoup\n",
    "from datetime import datetime\n",
    "import numpy as np\n",
    "\n",
    "import pandas as pd\n",
    "import holoviews as hv\n",
    "from holoviews import opts\n",
    "hv.extension('bokeh')"
   ]
  },
  {
   "cell_type": "code",
   "execution_count": 5,
   "metadata": {},
   "outputs": [],
   "source": [
    "df = get_data(url)\n",
    "df = preprocess(df)"
   ]
  },
  {
   "cell_type": "code",
   "execution_count": 6,
   "metadata": {},
   "outputs": [
    {
     "data": {
      "text/html": [
       "<div>\n",
       "<style scoped>\n",
       "    .dataframe tbody tr th:only-of-type {\n",
       "        vertical-align: middle;\n",
       "    }\n",
       "\n",
       "    .dataframe tbody tr th {\n",
       "        vertical-align: top;\n",
       "    }\n",
       "\n",
       "    .dataframe thead th {\n",
       "        text-align: right;\n",
       "    }\n",
       "</style>\n",
       "<table border=\"1\" class=\"dataframe\">\n",
       "  <thead>\n",
       "    <tr style=\"text-align: right;\">\n",
       "      <th></th>\n",
       "      <th>Comunidad Autónoma</th>\n",
       "      <th>Fecha</th>\n",
       "      <th>Casos</th>\n",
       "      <th>Hospitalizados</th>\n",
       "      <th>UCI</th>\n",
       "      <th>Fallecidos</th>\n",
       "    </tr>\n",
       "  </thead>\n",
       "  <tbody>\n",
       "    <tr>\n",
       "      <th>0</th>\n",
       "      <td>Andalucía</td>\n",
       "      <td>2020-02-20</td>\n",
       "      <td>0</td>\n",
       "      <td>0</td>\n",
       "      <td>0</td>\n",
       "      <td>0</td>\n",
       "    </tr>\n",
       "    <tr>\n",
       "      <th>1</th>\n",
       "      <td>Aragón</td>\n",
       "      <td>2020-02-20</td>\n",
       "      <td>0</td>\n",
       "      <td>0</td>\n",
       "      <td>0</td>\n",
       "      <td>0</td>\n",
       "    </tr>\n",
       "    <tr>\n",
       "      <th>2</th>\n",
       "      <td>Principado de Asturias</td>\n",
       "      <td>2020-02-20</td>\n",
       "      <td>0</td>\n",
       "      <td>0</td>\n",
       "      <td>0</td>\n",
       "      <td>0</td>\n",
       "    </tr>\n",
       "    <tr>\n",
       "      <th>3</th>\n",
       "      <td>Islas Baleares</td>\n",
       "      <td>2020-02-20</td>\n",
       "      <td>1</td>\n",
       "      <td>0</td>\n",
       "      <td>0</td>\n",
       "      <td>0</td>\n",
       "    </tr>\n",
       "    <tr>\n",
       "      <th>4</th>\n",
       "      <td>Canarias</td>\n",
       "      <td>2020-02-20</td>\n",
       "      <td>1</td>\n",
       "      <td>0</td>\n",
       "      <td>0</td>\n",
       "      <td>0</td>\n",
       "    </tr>\n",
       "  </tbody>\n",
       "</table>\n",
       "</div>"
      ],
      "text/plain": [
       "       Comunidad Autónoma      Fecha  Casos  Hospitalizados  UCI  Fallecidos\n",
       "0               Andalucía 2020-02-20      0               0    0           0\n",
       "1                  Aragón 2020-02-20      0               0    0           0\n",
       "2  Principado de Asturias 2020-02-20      0               0    0           0\n",
       "3          Islas Baleares 2020-02-20      1               0    0           0\n",
       "4                Canarias 2020-02-20      1               0    0           0"
      ]
     },
     "execution_count": 6,
     "metadata": {},
     "output_type": "execute_result"
    }
   ],
   "source": [
    "df.head()"
   ]
  },
  {
   "cell_type": "code",
   "execution_count": 7,
   "metadata": {},
   "outputs": [
    {
     "data": {
      "text/plain": [
       "Index(['Comunidad Autónoma', 'Fecha', 'Casos', 'Hospitalizados', 'UCI',\n",
       "       'Fallecidos'],\n",
       "      dtype='object')"
      ]
     },
     "execution_count": 7,
     "metadata": {},
     "output_type": "execute_result"
    }
   ],
   "source": [
    "df.columns"
   ]
  },
  {
   "cell_type": "code",
   "execution_count": 14,
   "metadata": {},
   "outputs": [],
   "source": [
    "df['Leves'] = abs(df['Casos'] - (df['Hospitalizados'] + df['UCI']))\n",
    "df = df[['Comunidad Autónoma', 'Fecha', 'Leves', 'Hospitalizados', 'UCI', 'Fallecidos']]\n",
    "\n",
    "df = pd.melt(df, id_vars=df.columns[:2], var_name='Estado', value_name='Número')"
   ]
  },
  {
   "cell_type": "code",
   "execution_count": 15,
   "metadata": {},
   "outputs": [
    {
     "data": {
      "text/html": [
       "<div>\n",
       "<style scoped>\n",
       "    .dataframe tbody tr th:only-of-type {\n",
       "        vertical-align: middle;\n",
       "    }\n",
       "\n",
       "    .dataframe tbody tr th {\n",
       "        vertical-align: top;\n",
       "    }\n",
       "\n",
       "    .dataframe thead th {\n",
       "        text-align: right;\n",
       "    }\n",
       "</style>\n",
       "<table border=\"1\" class=\"dataframe\">\n",
       "  <thead>\n",
       "    <tr style=\"text-align: right;\">\n",
       "      <th></th>\n",
       "      <th>Comunidad Autónoma</th>\n",
       "      <th>Fecha</th>\n",
       "      <th>Estado</th>\n",
       "      <th>Número</th>\n",
       "    </tr>\n",
       "  </thead>\n",
       "  <tbody>\n",
       "    <tr>\n",
       "      <th>0</th>\n",
       "      <td>Andalucía</td>\n",
       "      <td>2020-02-20</td>\n",
       "      <td>Leves</td>\n",
       "      <td>0</td>\n",
       "    </tr>\n",
       "    <tr>\n",
       "      <th>1</th>\n",
       "      <td>Aragón</td>\n",
       "      <td>2020-02-20</td>\n",
       "      <td>Leves</td>\n",
       "      <td>0</td>\n",
       "    </tr>\n",
       "    <tr>\n",
       "      <th>2</th>\n",
       "      <td>Principado de Asturias</td>\n",
       "      <td>2020-02-20</td>\n",
       "      <td>Leves</td>\n",
       "      <td>0</td>\n",
       "    </tr>\n",
       "    <tr>\n",
       "      <th>3</th>\n",
       "      <td>Islas Baleares</td>\n",
       "      <td>2020-02-20</td>\n",
       "      <td>Leves</td>\n",
       "      <td>1</td>\n",
       "    </tr>\n",
       "    <tr>\n",
       "      <th>4</th>\n",
       "      <td>Canarias</td>\n",
       "      <td>2020-02-20</td>\n",
       "      <td>Leves</td>\n",
       "      <td>1</td>\n",
       "    </tr>\n",
       "  </tbody>\n",
       "</table>\n",
       "</div>"
      ],
      "text/plain": [
       "       Comunidad Autónoma      Fecha Estado  Número\n",
       "0               Andalucía 2020-02-20  Leves       0\n",
       "1                  Aragón 2020-02-20  Leves       0\n",
       "2  Principado de Asturias 2020-02-20  Leves       0\n",
       "3          Islas Baleares 2020-02-20  Leves       1\n",
       "4                Canarias 2020-02-20  Leves       1"
      ]
     },
     "execution_count": 15,
     "metadata": {},
     "output_type": "execute_result"
    }
   ],
   "source": [
    "df.head()"
   ]
  },
  {
   "cell_type": "markdown",
   "metadata": {},
   "source": [
    "current day "
   ]
  },
  {
   "cell_type": "code",
   "execution_count": 220,
   "metadata": {},
   "outputs": [],
   "source": [
    "values = df[df['Fecha'] == f'{date.year}-{date.month}-{date.day-1}']"
   ]
  },
  {
   "cell_type": "code",
   "execution_count": 221,
   "metadata": {},
   "outputs": [
    {
     "data": {
      "text/plain": [
       "72248"
      ]
     },
     "execution_count": 221,
     "metadata": {},
     "output_type": "execute_result"
    }
   ],
   "source": [
    "values['Casos'].sum()"
   ]
  },
  {
   "cell_type": "code",
   "execution_count": 208,
   "metadata": {},
   "outputs": [],
   "source": [
    "date = datetime.today()\n",
    "values = df[df['Fecha'] == f'{date.year}-{date.month}-{date.day}'].values\n",
    "\n",
    "if values.size > 0:\n",
    "    total = "
   ]
  },
  {
   "cell_type": "code",
   "execution_count": 166,
   "metadata": {},
   "outputs": [],
   "source": [
    "url = 'https://covid19.isciii.es/resources/serie_historica_acumulados.csv'\n",
    "\n",
    "\n",
    "def get_data(csv_url):\n",
    "    try:\n",
    "        df = pd.read_csv(csv_url, engine='python', skipfooter=1)\n",
    "        df.to_csv('COVID19_Spain.csv', index=False)\n",
    "    except URLError:\n",
    "        df = pd.read_csv('COVID19_Spain.csv')\n",
    "    return df\n",
    "\n",
    "\n",
    "def preprocess(df):\n",
    "    df.rename(columns={'CCAA Codigo ISO': 'Comunidad Autónoma'}, inplace=True)\n",
    "    df.columns = map(str.rstrip, df.columns)\n",
    "    \n",
    "    # Avoiding user's input mistakes\n",
    "    df.fillna(value=0, inplace=True)\n",
    "    # Removing characters from columns\n",
    "    for col in df.columns[-4:]:\n",
    "        df[col] = df[col].astype(str)\n",
    "        df[col] = df.loc[:, col].str.replace(r'\\.0', '')\n",
    "        df[col] = df.loc[:, col].str.replace(r'\\D', '')\n",
    "        df[col] = df.loc[:, col].astype(int)\n",
    "    \n",
    "    df.Fecha = pd.to_datetime(df.Fecha, format='%d/%m/%Y')\n",
    "#     df.Fecha = df.loc[:, 'Fecha'].dt.strftime('%d-%m')\n",
    "\n",
    "    # Autonomous communities names\n",
    "    tag_list = ['MD', 'CT', 'PV', 'CL', 'CM', 'AN', 'VC', 'GA', 'NC', 'AR', 'RI', 'EX', 'AS', 'CN', 'CB', 'IB', 'MC',\n",
    "                'ME', 'CE']\n",
    "    name_list = ['Madrid', 'Cataluña', 'País Vasco', 'Castilla y León', 'Castilla-La Mancha', 'Andalucía',\n",
    "                 'Comunidad Valenciana', 'Galicia', 'Comunidad Foral de Navarra', 'Aragón', 'La Rioja', 'Extremadura',\n",
    "                 'Principado de Asturias', 'Canarias', 'Cantabria', 'Islas Baleares', 'Murcia', 'Melilla', 'Ceuta']\n",
    "    df.replace(tag_list, name_list, inplace=True)\n",
    "\n",
    "    return df\n",
    "\n",
    "def render(figure, name):\n",
    "    renderer = hv.renderer('bokeh')\n",
    "    renderer.save(figure, f'{name}.html')\n",
    "\n",
    "\n",
    "def get_global(complete_df):\n",
    "    # preprocessing\n",
    "    df = complete_df[['Comunidad Autónoma', 'Fecha', 'Casos']]\n",
    "    \n",
    "#     df = df.sort_values(by=['Casos', 'Fecha'], ascending=[True, False])\n",
    "    df = df.sort_values(by='Casos', ascending=False)\n",
    "    df.reset_index(drop=True, inplace=True)\n",
    "\n",
    "    # plot\n",
    "    # for better date representation\n",
    "    df.Fecha = df.loc[:, 'Fecha'].dt.strftime('%d-%m')\n",
    "\n",
    "    color_cycle = hv.Palette('Inferno')\n",
    "    opts_dict = dict(color=color_cycle, width=900, height=450, xrotation=90, ylabel='Casos', xlabel='Fecha', invert_xaxis=True,\n",
    "                  tools=['hover'], stacked=True, show_legend=False, colorbar=True, line_color='white', show_grid=True, title='Escala lineal')\n",
    "    \n",
    "    bars = hv.Bars(df, kdims=['Fecha', 'Comunidad Autónoma'], vdims='Casos')\n",
    "    bars.opts(**opts_dict)\n",
    "    \n",
    "    log_bars = hv.Bars(df, kdims=['Fecha', 'Comunidad Autónoma'], vdims='Casos')\n",
    "    \n",
    "    opts_dict['logy'] = True\n",
    "    opts_dict['title'] = 'Escala logarítmica'\n",
    "    log_bars.opts(**opts_dict)\n",
    "    \n",
    "    layout = (bars + log_bars)\n",
    "    layout.opts(tabs=True, title='Casos por comunidad')\n",
    "    \n",
    "    return layout\n",
    "\n",
    "\n",
    "def get_global_heatmap(complete_df):\n",
    "    df = complete_df[['Comunidad Autónoma', 'Fecha', 'Casos']]\n",
    "    df = df.sort_values(by=['Comunidad Autónoma', 'Fecha'], ascending=[False, True])\n",
    "    df.Fecha = df.loc[:, 'Fecha'].dt.strftime('%d-%m')\n",
    "\n",
    "    heatmap = hv.HeatMap(df, kdims=['Fecha', 'Comunidad Autónoma'], vdims='Casos')\n",
    "    heatmap.opts(width=900, height=500, tools=['hover'], logz=True, title='Casos acumulados',\n",
    "                 toolbar='above', xaxis=None, xlabel='', ylabel='',\n",
    "                 colorbar=True, clim=(1, np.nan))\n",
    "    return heatmap\n",
    "\n",
    "\n",
    "def get_ccaa(complete_df):\n",
    "    # preprocessing\n",
    "    df = complete_df.copy()\n",
    "    df['Leves'] = abs(df['Casos'] - (df['Hospitalizados'] + df['UCI']))\n",
    "    df = df[['Comunidad Autónoma', 'Fecha', 'Leves', 'Hospitalizados', 'UCI', 'Fallecidos']]\n",
    "    \n",
    "    df = pd.melt(df, id_vars=df.columns[:2], var_name='Estado', value_name='Número')\n",
    "\n",
    "    # plot\n",
    "    key_dimensions = ['Fecha', 'Estado']\n",
    "    value_dimensions = ['Número']\n",
    "    \n",
    "    # for better date representation\n",
    "    df.Fecha = df.loc[:, 'Fecha'].dt.strftime('%d-%m')\n",
    "    \n",
    "    macro = hv.Table(df, key_dimensions, value_dimensions)\n",
    "    fig = macro.to.bars(key_dimensions, value_dimensions, 'Comunidad Autónoma')\n",
    "\n",
    "    color_cycle = hv.Cycle(['#FEE5AD', '#F7A541', '#F45D4C', '#2E2633'])\n",
    "    fig.opts(\n",
    "        opts.Bars(color=color_cycle, show_legend=True, stacked=True, aspect=16 / 9,\n",
    "                  ylabel='', xlabel='Fecha', responsive=True, tools=['hover'], title='Desglose por estado',\n",
    "                  legend_position='top_left', xrotation=90, active_tools=['pan', 'wheel_zoom']),\n",
    "    )\n",
    "    return fig\n",
    "\n",
    "\n",
    "def get_daily_increment(complete_df):\n",
    "    df = complete_df.copy()\n",
    "    \n",
    "    # preprocessing\n",
    "    # New columns\n",
    "    for column in df.columns[-4:]:\n",
    "        df[f'Incremento porcentual en {column}'] = ''\n",
    "        df[f'Incremento diario en {column}'] = ''\n",
    "\n",
    "    key_values = ['Casos', 'Hospitalizados', 'UCI', 'Fallecidos']\n",
    "    for ccaa in df['Comunidad Autónoma'].unique():\n",
    "        for value in key_values:\n",
    "            before = df.loc[df['Comunidad Autónoma'] == ccaa, :][value][1:]\n",
    "            after = df.loc[df['Comunidad Autónoma'] == ccaa, :][value][:-1]\n",
    "            difference = before.values - after.values\n",
    "            difference = np.append(difference, 0)\n",
    "            \n",
    "            # daily increment\n",
    "            df.loc[df['Comunidad Autónoma'] == ccaa, f'Incremento diario en {value}'] = difference\n",
    "            # daily percentual increment, you have to replace the zeros for ones in order to divide properly\n",
    "            divisor = df.loc[df['Comunidad Autónoma'] == ccaa, :][value][:].values\n",
    "            divisor = np.where(divisor == 0, 1, divisor)\n",
    "            df.loc[df['Comunidad Autónoma'] == ccaa, f'Incremento porcentual en {value}'] = difference / divisor\n",
    "    \n",
    "    df = pd.concat([df[['Comunidad Autónoma', 'Fecha']], df.filter(regex='Incremento')], axis=1)\n",
    "    df = pd.melt(df, id_vars=df.columns[:2], var_name='Estado', value_name='Incremento')\n",
    "    \n",
    "    # plot\n",
    "    key_dimensions = ['Fecha', 'Estado']\n",
    "    value_dimensions = ['Incremento']\n",
    "    \n",
    "    # for better date representation\n",
    "    df.Fecha = df.loc[:, 'Fecha'].dt.strftime('%d-%m')\n",
    "    \n",
    "    # barplot\n",
    "#     macro = hv.Table(df, key_dimensions, value_dimensions)\n",
    "#     fig = macro.to.bars(key_dimensions, value_dimensions, ['Comunidad Autónoma', 'Estado'])\n",
    "    \n",
    "#     fig.opts(\n",
    "#         opts.Bars(show_legend=True, stacked=True, aspect=16 / 9,\n",
    "#                   ylabel='', xlabel='Fecha', responsive=True, tools=['hover'], title='Incremento',\n",
    "#                   legend_position='top_left', xrotation=90, active_tools=['pan', 'wheel_zoom']),\n",
    "#     )\n",
    "    \n",
    "    # heatmap\n",
    "    \n",
    "    \n",
    "    return fig\n",
    "    \n",
    "\n",
    "def get_dashboard(csv_url):\n",
    "    # obtaining data\n",
    "    df = get_data(csv_url)\n",
    "    \n",
    "    # preprocessing\n",
    "    df = preprocess(df)\n",
    "    \n",
    "    # all cases\n",
    "    fig_global = get_global(df)\n",
    "    heatmap = get_global_heatmap(df)\n",
    "    \n",
    "    render(fig_global, 'bars')\n",
    "    render(heatmap, 'heatmap')\n",
    "#     # hospitalized, ICU and deceased\n",
    "#     fig_ccaa = get_ccaa(df)\n",
    "    \n",
    "#     # daily increments\n",
    "#     fig_daily_inc = get_daily_increment(df)\n",
    "\n",
    "\n",
    "def generate_html(csv_url):\n",
    "    get_dashboard(csv_url)"
   ]
  },
  {
   "cell_type": "code",
   "execution_count": 167,
   "metadata": {},
   "outputs": [
    {
     "name": "stderr",
     "output_type": "stream",
     "text": [
      "WARNING:param.BarPlot70863: Logarithmic axis range encountered value less than or equal to zero, please supply explicit lower-bound to override default of 2270.166.\n"
     ]
    }
   ],
   "source": [
    "generate_html(url)"
   ]
  },
  {
   "cell_type": "code",
   "execution_count": 168,
   "metadata": {},
   "outputs": [],
   "source": [
    "from bs4 import BeautifulSoup"
   ]
  },
  {
   "cell_type": "code",
   "execution_count": 170,
   "metadata": {},
   "outputs": [],
   "source": [
    "soup_heatmap = BeautifulSoup(open('heatmap.html'))"
   ]
  },
  {
   "cell_type": "code",
   "execution_count": null,
   "metadata": {},
   "outputs": [],
   "source": [
    "sou"
   ]
  }
 ],
 "metadata": {
  "kernelspec": {
   "display_name": "Python 3",
   "language": "python",
   "name": "python3"
  },
  "language_info": {
   "codemirror_mode": {
    "name": "ipython",
    "version": 3
   },
   "file_extension": ".py",
   "mimetype": "text/x-python",
   "name": "python",
   "nbconvert_exporter": "python",
   "pygments_lexer": "ipython3",
   "version": "3.7.7"
  }
 },
 "nbformat": 4,
 "nbformat_minor": 4
}
